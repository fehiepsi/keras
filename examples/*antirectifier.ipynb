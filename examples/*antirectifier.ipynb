{
 "cells": [
  {
   "cell_type": "code",
   "execution_count": 1,
   "metadata": {
    "collapsed": false
   },
   "outputs": [
    {
     "name": "stderr",
     "output_type": "stream",
     "text": [
      "Using TensorFlow backend.\n"
     ]
    }
   ],
   "source": [
    "'''The example demonstrates how to write custom layers for Keras.\n",
    "\n",
    "We build a custom activation layer called 'Antirectifier',\n",
    "which modifies the shape of the tensor that passes through it.\n",
    "We need to specify two methods: `get_output_shape_for` and `call`.\n",
    "\n",
    "Note that the same result can also be achieved via a Lambda layer.\n",
    "\n",
    "Because our custom layer is written with primitives from the Keras\n",
    "backend (`K`), our code can run both on TensorFlow and Theano.\n",
    "'''\n",
    "\n",
    "from __future__ import print_function\n",
    "from keras.models import Sequential\n",
    "from keras.layers import Dense, Dropout, Layer, Activation\n",
    "from keras.datasets import mnist\n",
    "from keras import backend as K\n",
    "from keras.utils import np_utils"
   ]
  },
  {
   "cell_type": "code",
   "execution_count": 2,
   "metadata": {
    "collapsed": true
   },
   "outputs": [],
   "source": [
    "class Antirectifier(Layer):\n",
    "    '''This is the combination of a sample-wise\n",
    "    L2 normalization with the concatenation of the\n",
    "    positive part of the input with the negative part\n",
    "    of the input. The result is a tensor of samples that are\n",
    "    twice as large as the input samples.\n",
    "\n",
    "    It can be used in place of a ReLU.\n",
    "\n",
    "    # Input shape\n",
    "        2D tensor of shape (samples, n)\n",
    "\n",
    "    # Output shape\n",
    "        2D tensor of shape (samples, 2*n)\n",
    "\n",
    "    # Theoretical justification\n",
    "        When applying ReLU, assuming that the distribution\n",
    "        of the previous output is approximately centered around 0.,\n",
    "        you are discarding half of your input. This is inefficient.\n",
    "\n",
    "        Antirectifier allows to return all-positive outputs like ReLU,\n",
    "        without discarding any data.\n",
    "\n",
    "        Tests on MNIST show that Antirectifier allows to train networks\n",
    "        with twice less parameters yet with comparable\n",
    "        classification accuracy as an equivalent ReLU-based network.\n",
    "    '''\n",
    "    def get_output_shape_for(self, input_shape):\n",
    "        shape = list(input_shape)\n",
    "        assert len(shape) == 2  # only valid for 2D tensors\n",
    "        shape[-1] *= 2\n",
    "        return tuple(shape)\n",
    "\n",
    "    def call(self, x, mask=None):\n",
    "        x -= K.mean(x, axis=1, keepdims=True)\n",
    "        x = K.l2_normalize(x, axis=1)\n",
    "        pos = K.relu(x)\n",
    "        neg = K.relu(-x)\n",
    "        return K.concatenate([pos, neg], axis=1)"
   ]
  },
  {
   "cell_type": "code",
   "execution_count": 3,
   "metadata": {
    "collapsed": true
   },
   "outputs": [],
   "source": [
    "# global parameters\n",
    "batch_size = 128\n",
    "nb_classes = 10\n",
    "nb_epoch = 40"
   ]
  },
  {
   "cell_type": "code",
   "execution_count": 4,
   "metadata": {
    "collapsed": false
   },
   "outputs": [
    {
     "name": "stdout",
     "output_type": "stream",
     "text": [
      "60000 train samples\n",
      "10000 test samples\n"
     ]
    }
   ],
   "source": [
    "# the data, shuffled and split between train and test sets\n",
    "(X_train, y_train), (X_test, y_test) = mnist.load_data()\n",
    "\n",
    "X_train = X_train.reshape(60000, 784)\n",
    "X_test = X_test.reshape(10000, 784)\n",
    "X_train = X_train.astype('float32')\n",
    "X_test = X_test.astype('float32')\n",
    "X_train /= 255\n",
    "X_test /= 255\n",
    "print(X_train.shape[0], 'train samples')\n",
    "print(X_test.shape[0], 'test samples')\n",
    "\n",
    "# convert class vectors to binary class matrices\n",
    "Y_train = np_utils.to_categorical(y_train, nb_classes)\n",
    "Y_test = np_utils.to_categorical(y_test, nb_classes)"
   ]
  },
  {
   "cell_type": "code",
   "execution_count": 5,
   "metadata": {
    "collapsed": true
   },
   "outputs": [],
   "source": [
    "# build the model\n",
    "model = Sequential()\n",
    "model.add(Dense(256, input_shape=(784,)))\n",
    "model.add(Antirectifier())\n",
    "model.add(Dropout(0.1))\n",
    "model.add(Dense(256))\n",
    "model.add(Antirectifier())\n",
    "model.add(Dropout(0.1))\n",
    "model.add(Dense(10))\n",
    "model.add(Activation('softmax'))\n",
    "\n",
    "# compile the model\n",
    "model.compile(loss='categorical_crossentropy',\n",
    "              optimizer='rmsprop',\n",
    "              metrics=['accuracy'])"
   ]
  },
  {
   "cell_type": "code",
   "execution_count": 6,
   "metadata": {
    "collapsed": false
   },
   "outputs": [
    {
     "name": "stdout",
     "output_type": "stream",
     "text": [
      "Train on 60000 samples, validate on 10000 samples\n",
      "Epoch 1/40\n",
      "4s - loss: 0.6079 - acc: 0.9120 - val_loss: 0.1904 - val_acc: 0.9522\n",
      "Epoch 2/40\n",
      "2s - loss: 0.1271 - acc: 0.9653 - val_loss: 0.1022 - val_acc: 0.9705\n",
      "Epoch 3/40\n",
      "2s - loss: 0.0830 - acc: 0.9759 - val_loss: 0.0847 - val_acc: 0.9741\n",
      "Epoch 4/40\n",
      "2s - loss: 0.0630 - acc: 0.9814 - val_loss: 0.0740 - val_acc: 0.9782\n",
      "Epoch 5/40\n",
      "2s - loss: 0.0513 - acc: 0.9844 - val_loss: 0.0758 - val_acc: 0.9776\n",
      "Epoch 6/40\n",
      "2s - loss: 0.0426 - acc: 0.9871 - val_loss: 0.0714 - val_acc: 0.9779\n",
      "Epoch 7/40\n",
      "2s - loss: 0.0353 - acc: 0.9892 - val_loss: 0.0640 - val_acc: 0.9811\n",
      "Epoch 8/40\n",
      "2s - loss: 0.0324 - acc: 0.9903 - val_loss: 0.0680 - val_acc: 0.9804\n",
      "Epoch 9/40\n",
      "2s - loss: 0.0270 - acc: 0.9916 - val_loss: 0.0719 - val_acc: 0.9789\n",
      "Epoch 10/40\n",
      "2s - loss: 0.0247 - acc: 0.9924 - val_loss: 0.0791 - val_acc: 0.9778\n",
      "Epoch 11/40\n",
      "2s - loss: 0.0201 - acc: 0.9937 - val_loss: 0.0662 - val_acc: 0.9816\n",
      "Epoch 12/40\n",
      "2s - loss: 0.0195 - acc: 0.9936 - val_loss: 0.0663 - val_acc: 0.9811\n",
      "Epoch 13/40\n",
      "2s - loss: 0.0168 - acc: 0.9948 - val_loss: 0.0685 - val_acc: 0.9819\n",
      "Epoch 14/40\n",
      "2s - loss: 0.0161 - acc: 0.9949 - val_loss: 0.0664 - val_acc: 0.9818\n",
      "Epoch 15/40\n",
      "2s - loss: 0.0157 - acc: 0.9953 - val_loss: 0.0724 - val_acc: 0.9811\n",
      "Epoch 16/40\n",
      "2s - loss: 0.0142 - acc: 0.9952 - val_loss: 0.0750 - val_acc: 0.9807\n",
      "Epoch 17/40\n",
      "2s - loss: 0.0131 - acc: 0.9957 - val_loss: 0.0685 - val_acc: 0.9835\n",
      "Epoch 18/40\n",
      "2s - loss: 0.0123 - acc: 0.9960 - val_loss: 0.0761 - val_acc: 0.9816\n",
      "Epoch 19/40\n",
      "2s - loss: 0.0110 - acc: 0.9962 - val_loss: 0.0805 - val_acc: 0.9808\n",
      "Epoch 20/40\n",
      "2s - loss: 0.0103 - acc: 0.9966 - val_loss: 0.0671 - val_acc: 0.9834\n",
      "Epoch 21/40\n",
      "2s - loss: 0.0103 - acc: 0.9968 - val_loss: 0.0771 - val_acc: 0.9817\n",
      "Epoch 22/40\n",
      "2s - loss: 0.0089 - acc: 0.9971 - val_loss: 0.0720 - val_acc: 0.9837\n",
      "Epoch 23/40\n",
      "2s - loss: 0.0084 - acc: 0.9973 - val_loss: 0.0702 - val_acc: 0.9840\n",
      "Epoch 24/40\n",
      "2s - loss: 0.0081 - acc: 0.9973 - val_loss: 0.0803 - val_acc: 0.9824\n",
      "Epoch 25/40\n",
      "2s - loss: 0.0082 - acc: 0.9972 - val_loss: 0.0763 - val_acc: 0.9832\n",
      "Epoch 26/40\n",
      "2s - loss: 0.0071 - acc: 0.9977 - val_loss: 0.0788 - val_acc: 0.9819\n",
      "Epoch 27/40\n",
      "2s - loss: 0.0065 - acc: 0.9978 - val_loss: 0.0817 - val_acc: 0.9810\n",
      "Epoch 28/40\n",
      "2s - loss: 0.0071 - acc: 0.9977 - val_loss: 0.0719 - val_acc: 0.9832\n",
      "Epoch 29/40\n",
      "2s - loss: 0.0057 - acc: 0.9983 - val_loss: 0.0751 - val_acc: 0.9829\n",
      "Epoch 30/40\n",
      "2s - loss: 0.0055 - acc: 0.9983 - val_loss: 0.0888 - val_acc: 0.9807\n",
      "Epoch 31/40\n",
      "3s - loss: 0.0062 - acc: 0.9982 - val_loss: 0.0795 - val_acc: 0.9827\n",
      "Epoch 32/40\n",
      "2s - loss: 0.0057 - acc: 0.9981 - val_loss: 0.0796 - val_acc: 0.9822\n",
      "Epoch 33/40\n",
      "2s - loss: 0.0059 - acc: 0.9980 - val_loss: 0.0844 - val_acc: 0.9826\n",
      "Epoch 34/40\n",
      "2s - loss: 0.0056 - acc: 0.9981 - val_loss: 0.0820 - val_acc: 0.9820\n",
      "Epoch 35/40\n",
      "2s - loss: 0.0048 - acc: 0.9987 - val_loss: 0.0814 - val_acc: 0.9818\n",
      "Epoch 36/40\n",
      "2s - loss: 0.0048 - acc: 0.9983 - val_loss: 0.0887 - val_acc: 0.9833\n",
      "Epoch 37/40\n",
      "2s - loss: 0.0053 - acc: 0.9982 - val_loss: 0.0899 - val_acc: 0.9808\n",
      "Epoch 38/40\n",
      "2s - loss: 0.0047 - acc: 0.9984 - val_loss: 0.0804 - val_acc: 0.9826\n",
      "Epoch 39/40\n",
      "2s - loss: 0.0042 - acc: 0.9984 - val_loss: 0.0804 - val_acc: 0.9834\n",
      "Epoch 40/40\n",
      "2s - loss: 0.0042 - acc: 0.9985 - val_loss: 0.0883 - val_acc: 0.9818\n"
     ]
    },
    {
     "data": {
      "text/plain": [
       "<keras.callbacks.History at 0x7fa4ef061898>"
      ]
     },
     "execution_count": 6,
     "metadata": {},
     "output_type": "execute_result"
    }
   ],
   "source": [
    "# train the model\n",
    "model.fit(X_train, Y_train,\n",
    "          batch_size=batch_size, nb_epoch=nb_epoch,\n",
    "          verbose=2, validation_data=(X_test, Y_test))\n",
    "\n",
    "# next, compare with an equivalent network\n",
    "# with2x bigger Dense layers and ReLU"
   ]
  }
 ],
 "metadata": {
  "kernelspec": {
   "display_name": "Python [default]",
   "language": "python",
   "name": "python3"
  },
  "language_info": {
   "codemirror_mode": {
    "name": "ipython",
    "version": 3
   },
   "file_extension": ".py",
   "mimetype": "text/x-python",
   "name": "python",
   "nbconvert_exporter": "python",
   "pygments_lexer": "ipython3",
   "version": "3.5.2"
  }
 },
 "nbformat": 4,
 "nbformat_minor": 2
}
